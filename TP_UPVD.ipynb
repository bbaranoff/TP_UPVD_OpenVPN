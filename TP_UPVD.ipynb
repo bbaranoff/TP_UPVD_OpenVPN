{
 "cells": [
  {
   "cell_type": "markdown",
   "id": "31cc4821-dbe9-40b0-998c-481096168364",
   "metadata": {},
   "source": [
    "\n",
    "# TP_UPVD_Admisys\n",
    "\n",
    "## Accès Réseau Linux\n",
    "\n",
    "**Installer VirtualBox**\n",
    "\n",
    "https://download.virtualbox.org/virtualbox/7.0.14/VirtualBox-7.0.14-161095-Win.exe\n",
    "\n",
    "**Installer l'extension pack**\n",
    "\n",
    "https://download.virtualbox.org/virtualbox/7.0.14/Oracle_VM_VirtualBox_Extension_Pack-7.0.14-161095.vbox-extpack\n",
    "\n",
    "**Télécharger Ubuntu 22.04**\n",
    "\n",
    "https://releases.ubuntu.com/22.04.3/ubuntu-22.04.3-desktop-amd64.iso\n",
    "\n",
    "Début du TP instruction openvpn server uniquement\n",
    "\n",
    "Sur une machine virtuelle Ubuntu 22.04 lancer\n",
    "\n",
    "```bash\n",
    "sudo apt update && sudo apt upgrade -y\n",
    "sudo reboot\n",
    "sudo apt install -y git python3-pip gcc make perl linux-headers-$(uname -r) texlive-xetex texlive-fonts-recommended texlive-plain-generic\n",
    "wget http://download.virtualbox.org/virtualbox/7.0.14/VBoxGuestAdditions_7.0.14.iso\n",
    "sudo mount -o loop VBoxGuestAdditions_7.0.14.iso /mnt\n",
    "cd /mnt\n",
    "sudo bash VBoxLinuxAdditions.run\n",
    "reboot\n",
    "pip3 install jupyterlab PyQtWebEngine\n",
    "git clone https://github.com/bbaranoff/TP_UPVD_OpenVPN/\n",
    "cd TP_UPVD_OpenVPN\n",
    "jupyter lab\n",
    "```\n"
   ]
  },
  {
   "cell_type": "code",
   "execution_count": null,
   "id": "170ee8be-6ba1-4e28-8be4-7b759e42725a",
   "metadata": {},
   "outputs": [],
   "source": [
    "----------------------------------------------------------------------"
   ]
  },
  {
   "cell_type": "markdown",
   "id": "14ec4b6e-2d7c-41bf-b3fc-b10891b28b3f",
   "metadata": {},
   "source": [
    "## A quoi sert le script ci dessous"
   ]
  },
  {
   "cell_type": "code",
   "execution_count": null,
   "id": "5af1e0f3-fd4c-4246-b76e-7144967a6868",
   "metadata": {
    "scrolled": true
   },
   "outputs": [],
   "source": [
    "# Installer Jupyter et la machine virtuelle Ubuntu 22.04\n",
    "\n",
    "import getpass\n",
    "import os\n",
    "!rm pass.txt\n",
    "password = getpass.getpass()\n",
    "f=open(\"pass.txt\",\"w\")\n",
    "f.write(password)\n",
    "f.close()\n",
    "!sudo -S apt update < pass.txt\n",
    "!sudo -S apt upgrade -y < pass.txt\n",
    "!sudo -S apt install easy-rsa openvpn gcc make perl linux-headers-$(uname -r) -y < pass.txt\n",
    "!sudo -S cp pass.txt /etc/openvpn/server < pass.txt"
   ]
  },
  {
   "cell_type": "code",
   "execution_count": null,
   "id": "6b70634c-d734-4699-8d24-9037c5473533",
   "metadata": {},
   "outputs": [],
   "source": [
    "------------------------------------------------------------"
   ]
  },
  {
   "cell_type": "markdown",
   "id": "aad5334a-a141-4328-af5f-7eec8462d2ff",
   "metadata": {},
   "source": [
    "## Connection ssh :\n"
   ]
  },
  {
   "cell_type": "code",
   "execution_count": null,
   "id": "cf261bc6-1e4b-46ea-a97c-dcadd7842340",
   "metadata": {},
   "outputs": [],
   "source": [
    "#Installation du ssh\n",
    "\n",
    "!sudo -S apt install openssh-server -y < pass.txt"
   ]
  },
  {
   "cell_type": "code",
   "execution_count": 4,
   "id": "61f40a62-fd2d-402a-91d9-2aa7b0c05491",
   "metadata": {},
   "outputs": [],
   "source": [
    "# ssh-copy-id user@remoteip             ## What is the purpose of this command"
   ]
  },
  {
   "cell_type": "code",
   "execution_count": 3,
   "id": "526a76b4-7115-49ab-99a2-7f4c255e7e5e",
   "metadata": {},
   "outputs": [],
   "source": [
    "!rm -rf ~/.ssh/ < pass.txt\n",
    "!ssh-keygen -q -t rsa -N '' -f ~/.ssh/id_rsa <<<y >/dev/null 2>&1"
   ]
  },
  {
   "cell_type": "markdown",
   "id": "0ae31b14-c671-4c9d-b3eb-1683a7f58fe6",
   "metadata": {},
   "source": [
    "## what is the purpose of this command\n"
   ]
  },
  {
   "cell_type": "code",
   "execution_count": null,
   "id": "8cc627e8-32f3-462a-bfe7-6b75d3f9029d",
   "metadata": {},
   "outputs": [],
   "source": [
    "# ssh -X user@remoteip                 #\n",
    "\n"
   ]
  },
  {
   "cell_type": "markdown",
   "id": "08eb1d95-4f5f-413e-94a2-12d906d9a8a7",
   "metadata": {},
   "source": [
    "## try to log as root\n",
    "## try to log without password ?"
   ]
  },
  {
   "cell_type": "code",
   "execution_count": 6,
   "id": "03011036-167c-4712-aaea-6e6ef84b1a07",
   "metadata": {},
   "outputs": [],
   "source": [
    "!touch myfile\n",
    "!echo mydata > myfile\n",
    "\n",
    "#Effectuer ces manipulation sur l'ordinateur de vorte voisin"
   ]
  },
  {
   "cell_type": "markdown",
   "id": "3922200c-c911-41ce-b175-c605fc0439b7",
   "metadata": {},
   "source": [
    "## scp myfile user@remoteip:~      #\n",
    "**what is the purpose of this command**\n"
   ]
  },
  {
   "cell_type": "code",
   "execution_count": null,
   "id": "86a546cd-ecde-49ed-9626-72179dfc8b38",
   "metadata": {},
   "outputs": [],
   "source": [
    "-------------------------------------------------------------------------------"
   ]
  },
  {
   "cell_type": "markdown",
   "id": "c0c796b5-4ec9-46c5-a86a-1430d8f40f54",
   "metadata": {},
   "source": [
    "## Installation d'apache2\n"
   ]
  },
  {
   "cell_type": "code",
   "execution_count": 7,
   "id": "3db884c6-03d2-482e-93d9-000fb9cfea4a",
   "metadata": {},
   "outputs": [
    {
     "name": "stdout",
     "output_type": "stream",
     "text": [
      "Lecture des listes de paquets... Fait\n",
      "Construction de l'arbre des dépendances... Fait\n",
      "Lecture des informations d'état... Fait      \n",
      "apache2 est déjà la version la plus récente (2.4.52-1ubuntu4.7).\n",
      "Les paquets suivants ont été installés automatiquement et ne sont plus nécessaires :\n",
      "  linux-image-6.5.0-15-generic linux-modules-6.5.0-15-generic\n",
      "  linux-modules-extra-6.5.0-15-generic\n",
      "Veuillez utiliser « sudo apt autoremove » pour les supprimer.\n",
      "0 mis à jour, 0 nouvellement installés, 0 à enlever et 2 non mis à jour.\n",
      "[sudo] Mot de passe de nirvana : Considering dependency setenvif for ssl:\n",
      "Module setenvif already enabled\n",
      "Considering dependency mime for ssl:\n",
      "Module mime already enabled\n",
      "Considering dependency socache_shmcb for ssl:\n",
      "Module socache_shmcb already enabled\n",
      "Module ssl already enabled\n",
      "[sudo] Mot de passe de nirvana : Site default-ssl already enabled\n"
     ]
    }
   ],
   "source": [
    "!sudo -S apt install apache2 -y < pass.txt\n"
   ]
  },
  {
   "cell_type": "markdown",
   "id": "b797d2e0-5832-4f58-84d5-06a6ba2f1ed6",
   "metadata": {},
   "source": [
    "\n",
    "### Allez dans votre navigateur et taper 127.0.0.1 que voyez vous ? , Pourquoi ?\n",
    "### Ou est situé le fichier index.html que vous voyez dans votre navigateur\n",
    "### Pourquoi la page 127.0.0.2 affiche la même chose sur quelle plage d'adresses est ce que cela ce produit\n",
    "\n",
    "## A quoi sertr la commande \n",
    "```bash\n",
    "sudo a2enmod ssl\n",
    "```\n",
    "## A quoi sert la commande \n",
    "\n",
    "```bash\n",
    "sudo a2ensite default-ssl\n",
    "```\n",
    "\n",
    "\n",
    "## RDP\n",
    "\n",
    "## Trouver le moyen d'accéder en remote desktop à un autre ordinateur dans la classe\n",
    "\n",
    "## partage de fichier intaller VSFTPD ou fillezilla et transferez un fichier"
   ]
  },
  {
   "cell_type": "code",
   "execution_count": null,
   "id": "4ed58db2-d7d6-4bed-b1e6-fb96c581d30e",
   "metadata": {},
   "outputs": [],
   "source": [
    "---------------------------------------------------------------"
   ]
  },
  {
   "cell_type": "markdown",
   "id": "dbabafe8-0994-47e8-af8f-f0da951f01d1",
   "metadata": {},
   "source": [
    "# A quoi servent usuellement les ports 21 22 23 25 53 80 139 443 445 1191 3306 3389"
   ]
  },
  {
   "cell_type": "code",
   "execution_count": null,
   "id": "467d6046-6dd9-40da-a73d-8cd1072694b3",
   "metadata": {},
   "outputs": [],
   "source": [
    "---------------------------------------------------------------"
   ]
  },
  {
   "cell_type": "markdown",
   "id": "58ec6896-e9a4-4577-83f9-eeb5f64b65aa",
   "metadata": {},
   "source": [
    "# Mettre apache en écoute sur lez port 81\n",
    "\n",
    "\n",
    "\n",
    "\n",
    "## OpenVPN"
   ]
  },
  {
   "cell_type": "code",
   "execution_count": 8,
   "id": "86961374-e9d0-4c63-9562-6a1a5ee99a88",
   "metadata": {},
   "outputs": [
    {
     "name": "stdout",
     "output_type": "stream",
     "text": [
      "[sudo] Mot de passe de nirvana : [sudo] Mot de passe de nirvana : "
     ]
    }
   ],
   "source": [
    "!sudo -S mkdir -p /etc/openvpn/easy-rsa < pass.txt\n",
    "!sudo -S cp -r /usr/share/easy-rsa/* /etc/openvpn/easy-rsa/ < pass.txt"
   ]
  },
  {
   "cell_type": "code",
   "execution_count": 9,
   "id": "06b66d07-c352-4936-88ce-874077d72da7",
   "metadata": {},
   "outputs": [
    {
     "name": "stdout",
     "output_type": "stream",
     "text": [
      "easyrsa  openssl-easyrsa.cnf  vars  vars.example  x509-types\n"
     ]
    }
   ],
   "source": [
    "!ls /etc/openvpn/easy-rsa"
   ]
  },
  {
   "cell_type": "code",
   "execution_count": 10,
   "id": "d194902f-4554-41e6-b388-ea8c14a3d8da",
   "metadata": {},
   "outputs": [
    {
     "name": "stdout",
     "output_type": "stream",
     "text": [
      "[sudo] Mot de passe de nirvana : "
     ]
    }
   ],
   "source": [
    "import subprocess\n",
    "subprocess.run(\"\"\"cat <<EOF > vars\n",
    "export KEY_COUNTRY=\"FR\"\n",
    "export KEY_PROVINCE=\"FR\"\n",
    "export KEY_CITY=\"Perpignan\"\n",
    "export KEY_ORG=\"UPVD\"\n",
    "export KEY_EMAIL=\"bastienbaranoff@gmail.com\"\n",
    "export KEY_CN=MyVPN                         \n",
    "export KEY_NAME=MyVPN\n",
    "export KEY_OU=MyVPN\n",
    "export EASYRSA_ALGO \"ec\"\n",
    "export EASYRSA_DIGEST \"sha512\"\n",
    "export EASYRSA_BATCH=1\n",
    "EOF\n",
    "\"\"\", shell=True)\n",
    "!sudo -S cp vars /etc/openvpn/easy-rsa/ < pass.txt"
   ]
  },
  {
   "cell_type": "code",
   "execution_count": null,
   "id": "0465a072-b403-4174-b968-57f78c3d54a4",
   "metadata": {},
   "outputs": [],
   "source": [
    "!cd /etc/openvpn/easy-rsa/ && ls && source vars\n",
    "!cd /etc/openvpn/server && sudo -S /etc/openvpn/easy-rsa/easyrsa init-pki < $PWD/pass.txt\n",
    "!cd /etc/openvpn/server && sudo -S /etc/openvpn/easy-rsa/easyrsa build-ca nopass  < $PWD/pass.txt\n",
    "!cd /etc/openvpn/server && sudo -S /etc/openvpn/easy-rsa/easyrsa gen-dh < $PWD/pass.txt\n",
    "!cd /etc/openvpn/server && sudo -S /etc/openvpn/easy-rsa/easyrsa gen-req . nopass < $PWD/pass.txt"
   ]
  },
  {
   "cell_type": "code",
   "execution_count": null,
   "id": "c70008d6-45bd-493b-ba3b-8d62fcba557a",
   "metadata": {},
   "outputs": [],
   "source": [
    "!cd /etc/openvpn/easy-rsa/ && ls && source vars\n",
    "!sudo -S /etc/openvpn/easy-rsa/easyrsa init-pki /etc/openvpn/server < pass.txt\n",
    "!sudo -S /etc/openvpn/easy-rsa/easyrsa build-ca /etc/openvpn/server nopass < pass.txt\n",
    "!sudo -S /etc/openvpn/easy-rsa/easyrsa gen-dh /etc/openvpn/server  < pass.txt "
   ]
  },
  {
   "cell_type": "code",
   "execution_count": null,
   "id": "d4d57db7-f4ac-4366-8195-9519701ce769",
   "metadata": {
    "scrolled": true
   },
   "outputs": [],
   "source": [
    "!sudo -S rm /etc/openvpn/server/pki/reqs/..req < pass.txt\n",
    "!sudo -S rm /etc/openvpn/server/pki/private/..key < pass.txt\n",
    "!sudo -S rm /etc/openvpn/server/pki/issued/..crt < pass.txt\n",
    "!cd /etc/openvpn/server && sudo -S /etc/openvpn/easy-rsa/easyrsa build-server-full . nopass < $PWD/pass.txt"
   ]
  }
 ],
 "metadata": {
  "kernelspec": {
   "display_name": "Python 3 (ipykernel)",
   "language": "python",
   "name": "python3"
  },
  "language_info": {
   "codemirror_mode": {
    "name": "ipython",
    "version": 3
   },
   "file_extension": ".py",
   "mimetype": "text/x-python",
   "name": "python",
   "nbconvert_exporter": "python",
   "pygments_lexer": "ipython3",
   "version": "3.9.18"
  }
 },
 "nbformat": 4,
 "nbformat_minor": 5
}
